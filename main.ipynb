{
 "cells": [
  {
   "cell_type": "code",
   "execution_count": 85,
   "metadata": {},
   "outputs": [],
   "source": [
    "from torch import math\n",
    "import torch\n",
    "import torch.nn as nn\n",
    "from torch.utils.data import Dataset,DataLoader\n",
    "class PositionalEncoding(nn.Module):\n",
    "\n",
    "    def __init__(self, d_model: int, dropout: float = 0.1, max_len: int = 5000):\n",
    "        super().__init__()\n",
    "        self.dropout = nn.Dropout(p=dropout)\n",
    "\n",
    "        position=torch.arange(max_len).unsqueeze(1)\n",
    "        div_term=1/(10000**(torch.arange(0,d_model,2)/d_model))\n",
    "        pe=torch.zeros(max_len,d_model)\n",
    "        pe[:,0::2]=torch.sin(position*div_term)\n",
    "        pe[:,1::2]=torch.cos(position*div_term)\n",
    "        self.register_buffer('pe', pe)\n",
    "    def forward(self,patches):\n",
    "        return self.dropout(patches+self.pe)\n",
    "\n",
    "\n",
    "\n",
    "# class ImgPatcher(nn.Module):\n",
    "#     def __init__(self,n_patches:int,emb_d:int,channels_first:bool,img_shape:tuple):\n",
    "#         super(ImgPatcher,self).__init__()\n",
    "#         self.channels_first=channels_first\n",
    "#         H,W,C=img_shape\n",
    "#         if self.channels_first:\n",
    "#             C,H,W=img_shape\n",
    "#         self.chw=(C,H,W)\n",
    "#         assert H==W, \"Please make sure image has same height and width\"\n",
    "#         assert H%n_patches==0, \"Please make sure n_patches is factor of image dims H and W\"\n",
    "#         self.n_patches=n_patches\n",
    "#         self.p=H//n_patches\n",
    "#         self.embedding=nn.Linear(H*W*C//n_patches**2,emb_d)                            #n_patches^2 patches of size (H/n_patches*W/n_patches)*C will be created from each image\n",
    "#         print(self.embedding.weight.shape)\n",
    "    \n",
    "#     def forward(self,img):\n",
    "#         img=img.float()\n",
    "#         N=img.size(0)\n",
    "#         if self.channels_first:\n",
    "#             img=img.permute(0,2,3,1)                #N,C,H,W -> N,H,W,C\n",
    "#         patches=torch.zeros(N,self.n_patches**2,self.embedding.weight.shape[1])\n",
    "#         for idx in range(N):\n",
    "#             img_=img[idx]\n",
    "#             for i in range(self.n_patches):\n",
    "#                 for j in range(self.n_patches):\n",
    "#                     patch=img_[i*self.p:(i+1)*self.p,j*self.p:(j+1)*self.p]\n",
    "#                     patches[idx,(i*self.n_patches)+j]=patch.flatten()\n",
    "#         return self.posenc(self.embedding(patches))\n",
    "\n",
    "\n",
    "\n",
    "\n",
    "\n"
   ]
  },
  {
   "cell_type": "code",
   "execution_count": 86,
   "metadata": {},
   "outputs": [],
   "source": [
    "\n",
    "import torch.nn as nn\n",
    "from torch import Tensor\n",
    "from typing import Optional, Any, Union, Callable\n",
    "from torch.nn import functional as F\n",
    "from torch.nn import MultiheadAttention, LayerNorm,Dropout, Linear,TransformerEncoderLayer\n",
    "def _get_activation_fn(activation: str) -> Callable[[Tensor], Tensor]:\n",
    "    if activation == \"relu\":\n",
    "        return F.relu\n",
    "    elif activation == \"gelu\":\n",
    "        return F.gelu\n",
    "\n",
    "    raise RuntimeError(\"activation should be relu/gelu, not {}\".format(activation))\n",
    "\n",
    "class CustomTransformerDecoderLayer(nn.Module):\n",
    "    __constants__ = ['batch_first', 'norm_first']\n",
    "\n",
    "    def __init__(self, d_model: int, nhead: int, dim_feedforward: int = 2048, dropout: float = 0.1,\n",
    "                 activation: Union[str, Callable[[Tensor], Tensor]] = F.relu,\n",
    "                 layer_norm_eps: float = 1e-5, batch_first: bool = False, norm_first: bool = False, \n",
    "                 need_attn: bool = True, device=None, dtype=None) -> None:\n",
    "        factory_kwargs = {'device': device, 'dtype': dtype}\n",
    "        super().__init__()\n",
    "        self.self_attn = MultiheadAttention(d_model, nhead, dropout=dropout, batch_first=batch_first,\n",
    "                                            **factory_kwargs)\n",
    "        self.multihead_attn = MultiheadAttention(d_model, nhead, dropout=dropout, batch_first=batch_first,\n",
    "                                                 **factory_kwargs)\n",
    "        # Implementation of Feedforward model\n",
    "        self.linear1 = Linear(d_model, dim_feedforward, **factory_kwargs)\n",
    "        self.dropout = Dropout(dropout)\n",
    "        self.linear2 = Linear(dim_feedforward, d_model, **factory_kwargs)\n",
    "\n",
    "        self.norm_first = norm_first\n",
    "        self.norm1 = LayerNorm(d_model, eps=layer_norm_eps, **factory_kwargs)\n",
    "        self.norm2 = LayerNorm(d_model, eps=layer_norm_eps, **factory_kwargs)\n",
    "        self.norm3 = LayerNorm(d_model, eps=layer_norm_eps, **factory_kwargs)\n",
    "        self.dropout1 = Dropout(dropout)\n",
    "        self.dropout2 = Dropout(dropout)\n",
    "        self.dropout3 = Dropout(dropout)\n",
    "        # Legacy string support for activation function.\n",
    "        if isinstance(activation, str):\n",
    "            self.activation = _get_activation_fn(activation)\n",
    "        else:\n",
    "            self.activation = activation\n",
    "        self.need_attn=need_attn\n",
    "    def __setstate__(self, state):\n",
    "        if 'activation' not in state:\n",
    "            state['activation'] = F.relu\n",
    "        super().__setstate__(state)\n",
    "\n",
    "    def forward(\n",
    "        self,\n",
    "        tgt: Tensor,\n",
    "        memory: Tensor,\n",
    "        tgt_mask: Optional[Tensor] = None,\n",
    "        memory_mask: Optional[Tensor] = None,\n",
    "        tgt_key_padding_mask: Optional[Tensor] = None,\n",
    "        memory_key_padding_mask: Optional[Tensor] = None,\n",
    "        tgt_is_causal: bool = False,\n",
    "        memory_is_causal: bool = False,\n",
    "    ) -> Tensor:\n",
    "        r\"\"\"Pass the inputs (and mask) through the decoder layer.\n",
    "\n",
    "        Args:\n",
    "            tgt: the sequence to the decoder layer (required).\n",
    "            memory: the sequence from the last layer of the encoder (required).\n",
    "            tgt_mask: the mask for the tgt sequence (optional).\n",
    "            memory_mask: the mask for the memory sequence (optional).\n",
    "            tgt_key_padding_mask: the mask for the tgt keys per batch (optional).\n",
    "            memory_key_padding_mask: the mask for the memory keys per batch (optional).\n",
    "            tgt_is_causal: If specified, applies a causal mask as tgt mask.\n",
    "                Mutually exclusive with providing tgt_mask. Default: ``False``.\n",
    "            memory_is_causal: If specified, applies a causal mask as tgt mask.\n",
    "                Mutually exclusive with providing memory_mask. Default: ``False``.\n",
    "        Shape:\n",
    "            see the docs in Transformer class.\n",
    "        \"\"\"\n",
    "        # see Fig. 1 of https://arxiv.org/pdf/2002.04745v1.pdf\n",
    "\n",
    "        x = tgt\n",
    "        if self.norm_first:\n",
    "            x = x + self._sa_block(self.norm1(x), tgt_mask, tgt_key_padding_mask, tgt_is_causal)\n",
    "            x = x + self._mha_block(self.norm2(x), memory, memory_mask, memory_key_padding_mask, memory_is_causal)\n",
    "            x = x + self._ff_block(self.norm3(x))\n",
    "        else:\n",
    "            x_sa = self.norm1(x + self._sa_block(x, tgt_mask, tgt_key_padding_mask, tgt_is_causal))\n",
    "            x,attn=self._mha_block(x, memory, memory_mask, memory_key_padding_mask, memory_is_causal,)\n",
    "            x = self.norm2(x_sa + x)\n",
    "            x = self.norm3(x + self._ff_block(x))\n",
    "\n",
    "        return x,attn\n",
    "\n",
    "\n",
    "    # self-attention block\n",
    "    def _sa_block(self, x: Tensor,\n",
    "                  attn_mask: Optional[Tensor], key_padding_mask: Optional[Tensor], is_causal: bool = False) -> Tensor:\n",
    "        x = self.self_attn(x, x, x,\n",
    "                           attn_mask=attn_mask,\n",
    "                           key_padding_mask=key_padding_mask,\n",
    "                           is_causal=is_causal,\n",
    "                           need_weights=False)[0]\n",
    "        return self.dropout1(x)\n",
    "\n",
    "    # multihead attention block\n",
    "    def _mha_block(self, x: Tensor, mem: Tensor,\n",
    "                   attn_mask: Optional[Tensor], key_padding_mask: Optional[Tensor], is_causal: bool = False) -> Tensor:\n",
    "        x,attn= self.multihead_attn(x, mem, mem,\n",
    "                                attn_mask=attn_mask,\n",
    "                                key_padding_mask=key_padding_mask,\n",
    "                                is_causal=is_causal,\n",
    "                                average_attn_weights=self.need_attn)\n",
    "\n",
    "        return self.dropout2(x),attn\n",
    "\n",
    "    # feed forward block\n",
    "    def _ff_block(self, x: Tensor) -> Tensor:\n",
    "        x = self.linear2(self.dropout(self.activation(self.linear1(x))))\n",
    "        return self.dropout3(x)\n"
   ]
  },
  {
   "cell_type": "code",
   "execution_count": 91,
   "metadata": {},
   "outputs": [],
   "source": [
    "from typing import Tuple,Callable\n",
    "class ImgPatcher(nn.Module):\n",
    "    def __init__(self,n_patches:int,patch_dims:int,img_chw:Tuple[int,int,int]):\n",
    "        super(ImgPatcher,self).__init__()\n",
    "        C,H,W=img_chw\n",
    "        assert torch.math.ceil(torch.math.sqrt(n_patches))-torch.math.sqrt(n_patches)==0, \"Please make sure n_patches is a square of a positive integer\"\n",
    "        assert H==W, \"Please make sure that the image is a square image\"\n",
    "        self.n_patches=n_patches\n",
    "        self.patch_dims=patch_dims\n",
    "        self.kernel_size=int(H//torch.math.sqrt(n_patches))\n",
    "        self.conv=nn.Conv2d(in_channels=C,out_channels=self.patch_dims,kernel_size=self.kernel_size,stride=self.kernel_size)\n",
    "    def forward(self,x):\n",
    "        x=self.conv(x)\n",
    "        x=x.permute(0,2,3,1)\n",
    "        x_emb=x.reshape(x.size(0),self.n_patches,x.size(-1))\n",
    "        return x_emb\n",
    "\n",
    "\n",
    "class SpatialStream(nn.Module):\n",
    "    def __init__(self, n_patches:int,img_chw:Tuple[int,int,int],dropout:float=0.1,d_model:int=768,nhead:int=8,dim_feedforward:int=2048,activation:str='relu',num_ts_blocks:int=2):\n",
    "        super(SpatialStream,self).__init__()\n",
    "        self.patcher=ImgPatcher(n_patches,d_model,img_chw)\n",
    "        self.pos_enc=PositionalEncoding(d_model,dropout,n_patches)\n",
    "        self.spattransformer_blocks=nn.ModuleList([TransformerEncoderLayer(d_model,nhead,dim_feedforward,batch_first=True,activation=activation) for i in range(num_ts_blocks)])\n",
    "        \n",
    "    def forward(self,x):\n",
    "        embedded=self.patcher(x)\n",
    "        encoded=self.pos_enc(embedded)\n",
    "        enc_memory_list=[]\n",
    "        for encoder_layer in self.spattransformer_blocks:\n",
    "            encoded=encoder_layer(encoded)\n",
    "            enc_memory_list.append(encoded)\n",
    "        return enc_memory_list\n",
    "\n",
    "class SemanticStream(nn.Module):\n",
    "    def __init__(self,max_seql:int,vocab_size:int,dropout:float,d_model:int,nhead:int,dim_feedforward:int,activation:Callable[[torch.tensor,...],torch.tensor]):\n",
    "        super(SemanticStream,self).__init__()\n",
    "        self.tokenizer=torch.hub.load('huggingface/pytorch-transformers', 'tokenizer', 'medicalai/ClinicalBERT')            #add this to dataloader instead of model along with patching\n",
    "        self.bert_embedding = torch.hub.load('huggingface/pytorch-transformers', 'model', 'medicalai/ClinicalBERT')\n",
    "        self.pos_enc=PositionalEncoding(d_model,dropout,max_seql)\n",
    "        self.semtransformer_blocks=nn.ModuleList([CustomTransformerDecoderLayer(d_model,nhead,dim_feedforward,batch_first=True,activation=activation) for _ in range(num_ts_blocks)])\n",
    "        self.out=nn.Linear(d_model,vocab_size)\n",
    "    def forward(self,tgt,enc_memory_list):\n",
    "        N,max_seql=tgt['input_ids'].shape\n",
    "        tgt_mask=torch.tril(torch.ones(max_seql,max_seql))\n",
    "        embedded=self.bert_embedding(**tgt).last_hidden_state\n",
    "        encoded=self.pos_enc(embedded)\n",
    "        for decoder_layer,memory in zip(self.semtransformer_blocks,enc_memory_list):\n",
    "            encoded,attn=decoder_layer(encoded,memory,tgt_mask=tgt_mask)\n",
    "            tgt_mask=None\n",
    "        out=self.out(encoded)\n",
    "\n",
    "        if self.training:\n",
    "            return out\n",
    "\n",
    "        return out,attn\n",
    "            \n",
    "\n",
    "\n",
    "\n",
    "\n",
    "\n",
    "\n",
    "\n",
    "\n",
    "        \n",
    "\n",
    "        \n",
    "\n",
    "        \n",
    "    "
   ]
  },
  {
   "cell_type": "code",
   "execution_count": 92,
   "metadata": {},
   "outputs": [],
   "source": [
    "encoder=SpatialStream(n_patches=36,img_chw=(3,512,512),activation='relu',num_ts_blocks=4)"
   ]
  },
  {
   "cell_type": "code",
   "execution_count": 95,
   "metadata": {},
   "outputs": [
    {
     "data": {
      "text/plain": [
       "[torch.Size([6, 36, 768]),\n",
       " torch.Size([6, 36, 768]),\n",
       " torch.Size([6, 36, 768]),\n",
       " torch.Size([6, 36, 768])]"
      ]
     },
     "execution_count": 95,
     "metadata": {},
     "output_type": "execute_result"
    }
   ],
   "source": [
    "[i.shape for i in encoder(torch.rand(6,3,512,512))]"
   ]
  },
  {
   "cell_type": "code",
   "execution_count": 83,
   "metadata": {},
   "outputs": [
    {
     "name": "stdout",
     "output_type": "stream",
     "text": [
      "5.0\n"
     ]
    }
   ],
   "source": [
    "func(a=float,b=5)"
   ]
  },
  {
   "cell_type": "code",
   "execution_count": 76,
   "metadata": {},
   "outputs": [],
   "source": [
    "import typing "
   ]
  },
  {
   "cell_type": "code",
   "execution_count": 55,
   "metadata": {},
   "outputs": [
    {
     "name": "stderr",
     "output_type": "stream",
     "text": [
      "Using cache found in C:\\Users\\noorr/.cache\\torch\\hub\\huggingface_pytorch-transformers_main\n",
      "Using cache found in C:\\Users\\noorr/.cache\\torch\\hub\\huggingface_pytorch-transformers_main\n",
      "Downloading pytorch_model.bin: 100%|██████████| 542M/542M [02:30<00:00, 3.59MB/s] \n"
     ]
    }
   ],
   "source": [
    "import torch\n",
    "tokenizer=torch.hub.load('huggingface/pytorch-transformers', 'tokenizer', 'medicalai/ClinicalBERT')\n",
    "model=torch.hub.load('huggingface/pytorch-transformers', 'model', 'medicalai/ClinicalBERT')\n",
    "\n",
    "test=tokenizer([\"i am very sick\",\"I have hydrophobia more than i have arachnophobia\",\"Patient has been diagnosed with hypertension\"],return_tensors='pt',padding=True)\n"
   ]
  },
  {
   "cell_type": "code",
   "execution_count": 64,
   "metadata": {},
   "outputs": [
    {
     "data": {
      "text/plain": [
       "torch.Size([3, 17])"
      ]
     },
     "execution_count": 64,
     "metadata": {},
     "output_type": "execute_result"
    }
   ],
   "source": [
    "test['input_ids'].shape"
   ]
  },
  {
   "cell_type": "code",
   "execution_count": 48,
   "metadata": {},
   "outputs": [],
   "source": []
  },
  {
   "cell_type": "code",
   "execution_count": null,
   "metadata": {},
   "outputs": [],
   "source": []
  }
 ],
 "metadata": {
  "kernelspec": {
   "display_name": "yolov8",
   "language": "python",
   "name": "python3"
  },
  "language_info": {
   "codemirror_mode": {
    "name": "ipython",
    "version": 3
   },
   "file_extension": ".py",
   "mimetype": "text/x-python",
   "name": "python",
   "nbconvert_exporter": "python",
   "pygments_lexer": "ipython3",
   "version": "3.10.11"
  },
  "orig_nbformat": 4
 },
 "nbformat": 4,
 "nbformat_minor": 2
}
