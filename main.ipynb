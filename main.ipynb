{
 "cells": [
  {
   "cell_type": "code",
   "execution_count": 43,
   "metadata": {},
   "outputs": [],
   "source": [
    "from torch import math\n",
    "import torch\n",
    "import torch.nn as nn\n",
    "import os, logging\n",
    "from torch.utils.data import Dataset,DataLoader\n",
    "class PositionalEncoding(nn.Module):\n",
    "\n",
    "    def __init__(self, d_model: int, dropout: float = 0.1, max_len: int = 5000):\n",
    "        super().__init__()\n",
    "        self.dropout = nn.Dropout(p=dropout)\n",
    "\n",
    "        position=torch.arange(max_len).unsqueeze(1)\n",
    "        div_term=1/(10000**(torch.arange(0,d_model,2)/d_model))\n",
    "        pe=torch.zeros(max_len,d_model)\n",
    "        pe[:,0::2]=torch.sin(position*div_term)\n",
    "        pe[:,1::2]=torch.cos(position*div_term)\n",
    "        self.register_buffer('pe', pe)\n",
    "    def forward(self,patches):\n",
    "        return self.dropout(patches+self.pe[:patches.shape[1]])\n",
    "\n",
    "\n",
    "\n",
    "# class ImgPatcher(nn.Module):\n",
    "#     def __init__(self,n_patches:int,emb_d:int,channels_first:bool,img_shape:tuple):\n",
    "#         super(ImgPatcher,self).__init__()\n",
    "#         self.channels_first=channels_first\n",
    "#         H,W,C=img_shape\n",
    "#         if self.channels_first:\n",
    "#             C,H,W=img_shape\n",
    "#         self.chw=(C,H,W)\n",
    "#         assert H==W, \"Please make sure image has same height and width\"\n",
    "#         assert H%n_patches==0, \"Please make sure n_patches is factor of image dims H and W\"\n",
    "#         self.n_patches=n_patches\n",
    "#         self.p=H//n_patches\n",
    "#         self.embedding=nn.Linear(H*W*C//n_patches**2,emb_d)                            #n_patches^2 patches of size (H/n_patches*W/n_patches)*C will be created from each image\n",
    "#         print(self.embedding.weight.shape)\n",
    "    \n",
    "#     def forward(self,img):\n",
    "#         img=img.float()\n",
    "#         N=img.size(0)\n",
    "#         if self.channels_first:\n",
    "#             img=img.permute(0,2,3,1)                #N,C,H,W -> N,H,W,C\n",
    "#         patches=torch.zeros(N,self.n_patches**2,self.embedding.weight.shape[1])\n",
    "#         for idx in range(N):\n",
    "#             img_=img[idx]\n",
    "#             for i in range(self.n_patches):\n",
    "#                 for j in range(self.n_patches):\n",
    "#                     patch=img_[i*self.p:(i+1)*self.p,j*self.p:(j+1)*self.p]\n",
    "#                     patches[idx,(i*self.n_patches)+j]=patch.flatten()\n",
    "#         return self.posenc(self.embedding(patches))\n",
    "\n",
    "\n",
    "\n",
    "\n",
    "\n"
   ]
  },
  {
   "cell_type": "code",
   "execution_count": 50,
   "metadata": {},
   "outputs": [
    {
     "ename": "RuntimeError",
     "evalue": "The size of tensor a (51) must match the size of tensor b (50) at non-singleton dimension 1",
     "output_type": "error",
     "traceback": [
      "\u001b[1;31m---------------------------------------------------------------------------\u001b[0m",
      "\u001b[1;31mRuntimeError\u001b[0m                              Traceback (most recent call last)",
      "Cell \u001b[1;32mIn[50], line 2\u001b[0m\n\u001b[0;32m      1\u001b[0m posenc\u001b[39m=\u001b[39mPositionalEncoding(\u001b[39m768\u001b[39m,max_len\u001b[39m=\u001b[39m\u001b[39m50\u001b[39m)\n\u001b[1;32m----> 2\u001b[0m posenc(torch\u001b[39m.\u001b[39;49mrand((\u001b[39m50\u001b[39;49m,\u001b[39m51\u001b[39;49m,\u001b[39m768\u001b[39;49m)))\n",
      "File \u001b[1;32mf:\\Users\\noorr\\anaconda3\\envs\\torch_\\lib\\site-packages\\torch\\nn\\modules\\module.py:1501\u001b[0m, in \u001b[0;36mModule._call_impl\u001b[1;34m(self, *args, **kwargs)\u001b[0m\n\u001b[0;32m   1496\u001b[0m \u001b[39m# If we don't have any hooks, we want to skip the rest of the logic in\u001b[39;00m\n\u001b[0;32m   1497\u001b[0m \u001b[39m# this function, and just call forward.\u001b[39;00m\n\u001b[0;32m   1498\u001b[0m \u001b[39mif\u001b[39;00m \u001b[39mnot\u001b[39;00m (\u001b[39mself\u001b[39m\u001b[39m.\u001b[39m_backward_hooks \u001b[39mor\u001b[39;00m \u001b[39mself\u001b[39m\u001b[39m.\u001b[39m_backward_pre_hooks \u001b[39mor\u001b[39;00m \u001b[39mself\u001b[39m\u001b[39m.\u001b[39m_forward_hooks \u001b[39mor\u001b[39;00m \u001b[39mself\u001b[39m\u001b[39m.\u001b[39m_forward_pre_hooks\n\u001b[0;32m   1499\u001b[0m         \u001b[39mor\u001b[39;00m _global_backward_pre_hooks \u001b[39mor\u001b[39;00m _global_backward_hooks\n\u001b[0;32m   1500\u001b[0m         \u001b[39mor\u001b[39;00m _global_forward_hooks \u001b[39mor\u001b[39;00m _global_forward_pre_hooks):\n\u001b[1;32m-> 1501\u001b[0m     \u001b[39mreturn\u001b[39;00m forward_call(\u001b[39m*\u001b[39margs, \u001b[39m*\u001b[39m\u001b[39m*\u001b[39mkwargs)\n\u001b[0;32m   1502\u001b[0m \u001b[39m# Do not call functions when jit is used\u001b[39;00m\n\u001b[0;32m   1503\u001b[0m full_backward_hooks, non_full_backward_hooks \u001b[39m=\u001b[39m [], []\n",
      "Cell \u001b[1;32mIn[43], line 19\u001b[0m, in \u001b[0;36mPositionalEncoding.forward\u001b[1;34m(self, patches)\u001b[0m\n\u001b[0;32m     18\u001b[0m \u001b[39mdef\u001b[39;00m \u001b[39mforward\u001b[39m(\u001b[39mself\u001b[39m,patches):\n\u001b[1;32m---> 19\u001b[0m     \u001b[39mreturn\u001b[39;00m \u001b[39mself\u001b[39m\u001b[39m.\u001b[39mdropout(patches\u001b[39m+\u001b[39;49m\u001b[39mself\u001b[39;49m\u001b[39m.\u001b[39;49mpe[:patches\u001b[39m.\u001b[39;49mshape[\u001b[39m1\u001b[39;49m]])\n",
      "\u001b[1;31mRuntimeError\u001b[0m: The size of tensor a (51) must match the size of tensor b (50) at non-singleton dimension 1"
     ]
    }
   ],
   "source": []
  },
  {
   "cell_type": "code",
   "execution_count": 20,
   "metadata": {},
   "outputs": [],
   "source": [
    "import torchvision.io\n",
    "import torch\n",
    "from torch.utils.data import Dataset\n",
    "\n",
    "def load_tokenizer(tokenizer_model:str,data_dir:str=None):\n",
    "    if not os.path.exists('data/tokenizer'):\n",
    "        tokenizer=torch.hub.load('huggingface/pytorch-transformers', 'tokenizer',tokenizer_model)\n",
    "        logging.info(\"Updating Tokenizer Vocab on Data\")\n",
    "        #insert code to get to process data_dir\n",
    "        #[tokenizer(i) for i in tqdm(data_dir[:,1])]\n",
    "        tokenizer.save_pretrained('data/tokenizer')\n",
    "        return tokenizer\n",
    "    else:\n",
    "        tokenizer=torch.hub.load('huggingface/pytorch-transformers', 'tokenizer','data/tokenizer/')\n",
    "        return tokenizer\n",
    "\n",
    "\n",
    "\n",
    "\n",
    "class Stream_Dataset(Dataset):\n",
    "    def __init__(self,seq_length,data_dir,img_dir,tokenizer_model='medicalai/ClinicalBERT'):\n",
    "        self.data_dir=data_dir\n",
    "        self.data=pd.read_csv(data_dir+'/'+'result0.csv').to_numpy()\n",
    "        self.img_dir=img_dir\n",
    "        self.max_length=seq_length\n",
    "    def __len__(self):\n",
    "        return self.data.shape[0]\n",
    "    def __getitem__(self,idx):\n",
    "        img_name=self.data[idx,0]\n",
    "        semantic_str=self.data[idx,1]\n",
    "        img=torchvision.io.read_image(self.data_dir+'/'+self.img_dir+'/'+img_name)\n",
    "        return img,semantic_str\n",
    "# dataset=Stream_Dataset(\n",
    "#         seq_length=50,\n",
    "#         data_dir=\"/home/mehedi/Desktop/raghib/FLICKR-30K IMAGE CAPTIONING/flickr30k_images\",\n",
    "#         img_dir='flickr30k_images',\n",
    "#         tokenizer_model='bert-base-uncased'\n",
    "# )\n"
   ]
  },
  {
   "cell_type": "code",
   "execution_count": 21,
   "metadata": {},
   "outputs": [],
   "source": [
    "\n",
    "import torch.nn as nn\n",
    "import torch\n",
    "from torch import Tensor\n",
    "from typing import Optional, Any, Union, Callable\n",
    "from torch.nn import functional as F\n",
    "from torch.nn import MultiheadAttention, LayerNorm,Dropout, Linear,TransformerEncoderLayer\n",
    "def _get_activation_fn(activation: str) -> Callable[[Tensor], Tensor]:\n",
    "    if activation == \"relu\":\n",
    "        return F.relu\n",
    "    elif activation == \"gelu\":\n",
    "        return F.gelu\n",
    "\n",
    "    raise RuntimeError(\"activation should be relu/gelu, not {}\".format(activation))\n",
    "\n",
    "class CustomTransformerDecoderLayer(nn.Module):\n",
    "    __constants__ = ['batch_first', 'norm_first']\n",
    "\n",
    "    def __init__(self, d_model: int, nhead: int, dim_feedforward: int = 2048, dropout: float = 0.1,\n",
    "                 activation: Union[str, Callable[[Tensor], Tensor]] = F.relu,\n",
    "                 layer_norm_eps: float = 1e-5, batch_first: bool = False, norm_first: bool = False, \n",
    "                 need_attn: bool = True, device=None, dtype=None) -> None:\n",
    "        factory_kwargs = {'device': device, 'dtype': dtype}\n",
    "        super().__init__()\n",
    "        self.self_attn = MultiheadAttention(d_model, nhead, dropout=dropout, batch_first=batch_first,\n",
    "                                            **factory_kwargs)\n",
    "        self.multihead_attn = MultiheadAttention(d_model, nhead, dropout=dropout, batch_first=batch_first,\n",
    "                                                 **factory_kwargs)\n",
    "        # Implementation of Feedforward model\n",
    "        self.linear1 = Linear(d_model, dim_feedforward, **factory_kwargs)\n",
    "        self.dropout = Dropout(dropout)\n",
    "        self.linear2 = Linear(dim_feedforward, d_model, **factory_kwargs)\n",
    "\n",
    "        self.norm_first = norm_first\n",
    "        self.norm1 = LayerNorm(d_model, eps=layer_norm_eps, **factory_kwargs)\n",
    "        self.norm2 = LayerNorm(d_model, eps=layer_norm_eps, **factory_kwargs)\n",
    "        self.norm3 = LayerNorm(d_model, eps=layer_norm_eps, **factory_kwargs)\n",
    "        self.dropout1 = Dropout(dropout)\n",
    "        self.dropout2 = Dropout(dropout)\n",
    "        self.dropout3 = Dropout(dropout)\n",
    "        # Legacy string support for activation function.\n",
    "        if isinstance(activation, str):\n",
    "            self.activation = _get_activation_fn(activation)\n",
    "        else:\n",
    "            self.activation = activation\n",
    "        self.need_attn=need_attn\n",
    "    def __setstate__(self, state):\n",
    "        if 'activation' not in state:\n",
    "            state['activation'] = F.relu\n",
    "        super().__setstate__(state)\n",
    "\n",
    "    def forward(\n",
    "        self,\n",
    "        tgt: Tensor,\n",
    "        memory: Tensor,\n",
    "        tgt_mask: Optional[Tensor] = None,\n",
    "        memory_mask: Optional[Tensor] = None,\n",
    "        tgt_key_padding_mask: Optional[Tensor] = None,\n",
    "        memory_key_padding_mask: Optional[Tensor] = None,\n",
    "        tgt_is_causal: bool = False,\n",
    "        memory_is_causal: bool = False,\n",
    "    ) -> Tensor:\n",
    "        r\"\"\"Pass the inputs (and mask) through the decoder layer.\n",
    "\n",
    "        Args:\n",
    "            tgt: the sequence to the decoder layer (required).\n",
    "            memory: the sequence from the last layer of the encoder (required).\n",
    "            tgt_mask: the mask for the tgt sequence (optional).\n",
    "            memory_mask: the mask for the memory sequence (optional).\n",
    "            tgt_key_padding_mask: the mask for the tgt keys per batch (optional).\n",
    "            memory_key_padding_mask: the mask for the memory keys per batch (optional).\n",
    "            tgt_is_causal: If specified, applies a causal mask as tgt mask.\n",
    "                Mutually exclusive with providing tgt_mask. Default: ``False``.\n",
    "            memory_is_causal: If specified, applies a causal mask as tgt mask.\n",
    "                Mutually exclusive with providing memory_mask. Default: ``False``.\n",
    "        Shape:\n",
    "            see the docs in Transformer class.\n",
    "        \"\"\"\n",
    "        # see Fig. 1 of https://arxiv.org/pdf/2002.04745v1.pdf\n",
    "\n",
    "        x = tgt\n",
    "        if self.norm_first:\n",
    "            x = x + self._sa_block(self.norm1(x), tgt_mask, tgt_key_padding_mask, tgt_is_causal)\n",
    "            x = x + self._mha_block(self.norm2(x), memory, memory_mask, memory_key_padding_mask, memory_is_causal)\n",
    "            x = x + self._ff_block(self.norm3(x))\n",
    "        else:\n",
    "            x_sa = self.norm1(x + self._sa_block(x, tgt_mask, tgt_key_padding_mask, tgt_is_causal))\n",
    "            x,attn=self._mha_block(x, memory, memory_mask, memory_key_padding_mask, memory_is_causal,)\n",
    "            x = self.norm2(x_sa + x)\n",
    "            x = self.norm3(x + self._ff_block(x))\n",
    "\n",
    "        return x,attn\n",
    "\n",
    "\n",
    "    # self-attention block\n",
    "    def _sa_block(self, x: Tensor,\n",
    "                  attn_mask: Optional[Tensor], key_padding_mask: Optional[Tensor], is_causal: bool = False) -> Tensor:\n",
    "        x = self.self_attn(x, x, x,\n",
    "                           attn_mask=attn_mask,\n",
    "                           key_padding_mask=key_padding_mask,\n",
    "                           is_causal=is_causal,\n",
    "                           need_weights=False)[0]\n",
    "        return self.dropout1(x)\n",
    "\n",
    "    # multihead attention block\n",
    "    def _mha_block(self, x: Tensor, mem: Tensor,\n",
    "                   attn_mask: Optional[Tensor], key_padding_mask: Optional[Tensor], is_causal: bool = False) -> Tensor:\n",
    "        x,attn= self.multihead_attn(x, mem, mem,\n",
    "                                attn_mask=attn_mask,\n",
    "                                key_padding_mask=key_padding_mask,\n",
    "                                is_causal=is_causal,\n",
    "                                average_attn_weights=self.need_attn)\n",
    "\n",
    "        return self.dropout2(x),attn\n",
    "\n",
    "    # feed forward block\n",
    "    def _ff_block(self, x: Tensor) -> Tensor:\n",
    "        x = self.linear2(self.dropout(self.activation(self.linear1(x))))\n",
    "        return self.dropout3(x)\n"
   ]
  },
  {
   "cell_type": "code",
   "execution_count": 22,
   "metadata": {},
   "outputs": [
    {
     "name": "stderr",
     "output_type": "stream",
     "text": [
      "Using cache found in C:\\Users\\noorr/.cache\\torch\\hub\\huggingface_pytorch-transformers_main\n",
      "Using cache found in C:\\Users\\noorr/.cache\\torch\\hub\\huggingface_pytorch-transformers_main\n"
     ]
    }
   ],
   "source": [
    "tokenizer=load_tokenizer(tokenizer_model='bert-base-uncased')\n",
    "model=load_bert_embedder(tokenizer_model='bert-base-uncased',tokenizer=tokenizer)"
   ]
  },
  {
   "cell_type": "code",
   "execution_count": 65,
   "metadata": {},
   "outputs": [],
   "source": [
    "from typing import Tuple,Callable,List,Union\n",
    "\n",
    "def load_bert_embedder(tokenizer_model:str,tokenizer):\n",
    "    if not os.path.exists('data/model'):\n",
    "        model=torch.hub.load('huggingface/pytorch-transformers', 'model',tokenizer_model)\n",
    "        model=update_bert_model(model,tokenizer)\n",
    "        return model\n",
    "    else:\n",
    "        model=torch.hub.load('huggingface/pytorch-transformers', 'model','data/model/')\n",
    "        model=update_bert_model(model,tokenizer)\n",
    "        return model\n",
    "\n",
    "\n",
    "\n",
    "\n",
    "def update_bert_model(model,tokenizer):\n",
    "    logging.info(\"Updating Model based on Tokenizer\")\n",
    "    model_vocab_len=model.embeddings.word_embeddings.weight.shape[0]\n",
    "    if model_vocab_len!=len(tokenizer):\n",
    "        model.resize_token_embeddings(len(tokenizer))\n",
    "    model.save_pretrained('data/model')\n",
    "    return model\n",
    "\n",
    "\n",
    "class ImgPatcher(nn.Module):\n",
    "    def __init__(self,n_patches:int,patch_dims:int,img_chw:Tuple[int,int,int]):\n",
    "        super(ImgPatcher,self).__init__()\n",
    "        C,H,W=img_chw\n",
    "        assert torch.math.ceil(torch.math.sqrt(n_patches))-torch.math.sqrt(n_patches)==0, \"Please make sure n_patches is a square of a positive integer\"\n",
    "        assert H==W, \"Please make sure that the image is a square image\"\n",
    "        self.n_patches=n_patches\n",
    "        self.patch_dims=patch_dims\n",
    "        self.kernel_size=int(H//torch.math.sqrt(n_patches))\n",
    "        self.conv=nn.Conv2d(in_channels=C,out_channels=self.patch_dims,kernel_size=self.kernel_size,stride=self.kernel_size)\n",
    "    def forward(self,x):\n",
    "        x=self.conv(x)\n",
    "        x=x.permute(0,2,3,1)\n",
    "        x_emb=x.reshape(x.size(0),self.n_patches,x.size(-1))\n",
    "        return x_emb\n",
    "\n",
    "\n",
    "class SpatialStream(nn.Module):\n",
    "    def __init__(self, n_patches:int,img_chw:Tuple[int,int,int],dropout:float=0.1,d_model:int=768,nhead:int=8,dim_feedforward:int=2048,activation:str='relu',num_ts_blocks:int=2):\n",
    "        super(SpatialStream,self).__init__()\n",
    "        self.patcher=ImgPatcher(n_patches,d_model,img_chw)\n",
    "        self.pos_enc=PositionalEncoding(d_model,dropout,n_patches)\n",
    "        self.spattransformer_blocks=nn.ModuleList([TransformerEncoderLayer(d_model,nhead,dim_feedforward,batch_first=True,activation=activation) for i in range(num_ts_blocks)])\n",
    "        \n",
    "    def forward(self,x):\n",
    "        embedded=self.patcher(x)\n",
    "        encoded=self.pos_enc(embedded)\n",
    "        enc_memory_list=[]\n",
    "        for encoder_layer in self.spattransformer_blocks:\n",
    "            encoded=encoder_layer(encoded)\n",
    "            enc_memory_list.append(encoded)\n",
    "        return enc_memory_list\n",
    "\n",
    "class SemanticStream(nn.Module):\n",
    "    def __init__(self,max_seql:int,dropout:float=0.1,num_ts_blocks:int=2,d_model:int=512,nhead:int=8,dim_feedforward:int=2048,activation:str='relu',tokenizer_model='medicalai/ClinicalBERT'):\n",
    "        super(SemanticStream,self).__init__()\n",
    "        self.max_seql=max_seql\n",
    "        self.tokenizer=load_tokenizer(tokenizer_model=tokenizer_model)            #add this to dataloader instead of model along with patching\n",
    "        self.bert_embedding = load_bert_embedder(tokenizer_model=tokenizer_model,tokenizer=self.tokenizer)\n",
    "        self.pos_enc=PositionalEncoding(d_model,dropout,max_seql)\n",
    "        self.semtransformer_blocks=nn.ModuleList([CustomTransformerDecoderLayer(d_model,nhead,dim_feedforward,batch_first=True,activation=activation) for _ in range(num_ts_blocks)])\n",
    "        self.out=nn.Linear(d_model,len(self.tokenizer))\n",
    "    def forward(self,target=None,enc_memory_list=None):\n",
    "        \n",
    "        tgt=target\n",
    "        if self.training:\n",
    "            tgt=self.tokenizer(target,max_length=self.max_seql,padding='max_length',truncation=True,return_tensors='pt')\n",
    "            tgt_padmask=tgt['attention_mask']==0\n",
    "        else:\n",
    "            if isinstance(target,List[str]):\n",
    "                tgt=self.tokenizer(target,padding=False,return_tensors='pt',add_special_tokens=False)['input_ids']\n",
    "                tgt_padmask=None\n",
    "        \n",
    "        tgt_mask=torch.tril(torch.ones(tgt.shape[-1],tgt.shape[-1]))\n",
    "        embedded=self.bert_embedding(tgt).last_hidden_state\n",
    "        encoded=self.pos_enc(embedded)\n",
    "        for decoder_layer,memory in zip(self.semtransformer_blocks,enc_memory_list):\n",
    "            encoded,attn=decoder_layer(encoded,memory,tgt_mask=tgt_mask,tgt_key_padding_mask=tgt_padmask)\n",
    "            tgt_mask=None\n",
    "            tgt_padmask=None\n",
    "        out=self.out(encoded)\n",
    "        return out,attn\n",
    "        \n",
    "    def evaluate(self,enc_memory_list=None)\n",
    "        batch_size=enc_memory_list[0].shape[0]\n",
    "        target=['[CLS]' for _ in range(batch_size)]\n",
    "        temptok=self.tokenizer(target,padding=False,return_tensors='pt',add_special_tokens=False)['input_ids']\n",
    "        while temptok.shape[-1]<=self.max_seql:\n",
    "            tgt_mask=torch.tril(torch.ones(temptok.shape[-1],temptok.shape[-1]))\n",
    "            embedded=self.bert_embedding(temptok).last_hidden_state\n",
    "            encoded=self.pos_enc(embedded)\n",
    "            for decoder_layer,memory in zip(self.semtransformer_blocks,enc_memory_list):\n",
    "                encoded,attn=decoder_layer(encoded,memory,tgt_mask=tgt_mask,tgt_key_padding_mask=tgt_padmask)\n",
    "                tgt_mask=None\n",
    "                tgt_padmask=None\n",
    "            out=self.out(encoded)\n",
    "            probs=F.log_softmax(out,axis=-1)\n",
    "            top_prob=probs.topk(1)[1].squeeze(-1)\n",
    "            temptok=torch.cat([temptok,top_prob],axis=1)\n",
    "        return out,attn\n",
    "\n",
    "        \n",
    "                \n",
    "\n",
    "    def save_bert_embedder(self):\n",
    "        self.bert_embedding.save_pretrained('data/model/')        \n",
    "        self.tokenizer.save_pretrained('data/tokenizer/')\n",
    "\n",
    "\n",
    "\n",
    "\n",
    "\n",
    "\n",
    "\n",
    "\n",
    "        \n",
    "\n",
    "        \n",
    "\n",
    "        \n",
    "    "
   ]
  },
  {
   "cell_type": "code",
   "execution_count": 87,
   "metadata": {},
   "outputs": [
    {
     "data": {
      "text/plain": [
       "0"
      ]
     },
     "execution_count": 87,
     "metadata": {},
     "output_type": "execute_result"
    }
   ],
   "source": [
    "tokenizer.vocab['[PAD]']"
   ]
  },
  {
   "cell_type": "markdown",
   "metadata": {},
   "source": []
  },
  {
   "cell_type": "code",
   "execution_count": 86,
   "metadata": {},
   "outputs": [
    {
     "name": "stderr",
     "output_type": "stream",
     "text": [
      "C:\\Users\\noorr\\AppData\\Local\\Temp\\ipykernel_21080\\1252139856.py:1: UserWarning: Implicit dimension choice for log_softmax has been deprecated. Change the call to include dim=X as an argument.\n",
      "  F.log_softmax(torch.rand((5,1,100))).topk(1)[1].squeeze(1)\n"
     ]
    },
    {
     "data": {
      "text/plain": [
       "tensor([[ 5],\n",
       "        [21],\n",
       "        [60],\n",
       "        [11],\n",
       "        [36]])"
      ]
     },
     "execution_count": 86,
     "metadata": {},
     "output_type": "execute_result"
    }
   ],
   "source": [
    "F.log_softmax(torch.rand((5,1,100))).topk(1)[1].squeeze(1)"
   ]
  },
  {
   "cell_type": "code",
   "execution_count": 11,
   "metadata": {},
   "outputs": [
    {
     "name": "stdout",
     "output_type": "stream",
     "text": [
      "Updated tokens from 10 rows of data\n"
     ]
    },
    {
     "name": "stderr",
     "output_type": "stream",
     "text": [
      "Using cache found in C:\\Users\\noorr/.cache\\torch\\hub\\huggingface_pytorch-transformers_main\n"
     ]
    }
   ],
   "source": [
    "dataset=Stream_Dataset(img_dir='images',data_dir='dataset')"
   ]
  },
  {
   "cell_type": "code",
   "execution_count": 12,
   "metadata": {},
   "outputs": [],
   "source": [
    "from torch.utils.data import DataLoader"
   ]
  },
  {
   "cell_type": "code",
   "execution_count": 13,
   "metadata": {},
   "outputs": [],
   "source": [
    "datal=DataLoader(dataset,batch_size=2)"
   ]
  },
  {
   "cell_type": "code",
   "execution_count": 66,
   "metadata": {},
   "outputs": [
    {
     "name": "stderr",
     "output_type": "stream",
     "text": [
      "Using cache found in C:\\Users\\noorr/.cache\\torch\\hub\\huggingface_pytorch-transformers_main\n",
      "Using cache found in C:\\Users\\noorr/.cache\\torch\\hub\\huggingface_pytorch-transformers_main\n"
     ]
    }
   ],
   "source": [
    "activation='relu'\n",
    "num_ts_blocks=4\n",
    "encoder=SpatialStream(n_patches=36,img_chw=(3,300,300),activation=activation,num_ts_blocks=num_ts_blocks)\n",
    "decoder=SemanticStream(max_seql=45,d_model=768,num_ts_blocks=num_ts_blocks)"
   ]
  },
  {
   "cell_type": "code",
   "execution_count": 70,
   "metadata": {},
   "outputs": [
    {
     "name": "stdout",
     "output_type": "stream",
     "text": [
      "False\n",
      "['[CLS] ', '[CLS] ', '[CLS] ', '[CLS] ', '[CLS] ', '[CLS] ', '[CLS] ', '[CLS] ', '[CLS] ', '[CLS] ']\n"
     ]
    }
   ],
   "source": [
    "x,y=torch.rand((10,3,300,300)),['I love mangoes' for _ in range(10)]\n",
    "mem=encoder(x)\n",
    "decoder.eval()\n",
    "print(decoder.training)\n",
    "y=['[CLS] ' for _ in range(10)]\n",
    "print(y)\n",
    "y_hat,attention=decoder(tgt_=y,enc_memory_list=mem)"
   ]
  },
  {
   "cell_type": "code",
   "execution_count": 73,
   "metadata": {},
   "outputs": [
    {
     "data": {
      "text/plain": [
       "torch.Size([10, 1, 36])"
      ]
     },
     "execution_count": 73,
     "metadata": {},
     "output_type": "execute_result"
    }
   ],
   "source": []
  },
  {
   "cell_type": "code",
   "execution_count": 36,
   "metadata": {},
   "outputs": [
    {
     "data": {
      "text/plain": [
       "torch.return_types.topk(\n",
       "values=tensor([[0.8000],\n",
       "        [0.8000],\n",
       "        [0.8000],\n",
       "        [0.8000]]),\n",
       "indices=tensor([[2],\n",
       "        [2],\n",
       "        [2],\n",
       "        [2]]))"
      ]
     },
     "execution_count": 36,
     "metadata": {},
     "output_type": "execute_result"
    }
   ],
   "source": [
    "torch.tensor([[0.1,0.1,0.8],[0.1,0.1,0.8],[0.1,0.1,0.8],[0.1,0.1,0.8]]).topk(1)"
   ]
  },
  {
   "cell_type": "code",
   "execution_count": 16,
   "metadata": {},
   "outputs": [
    {
     "ename": "NameError",
     "evalue": "name 'encoder' is not defined",
     "output_type": "error",
     "traceback": [
      "\u001b[1;31m---------------------------------------------------------------------------\u001b[0m",
      "\u001b[1;31mNameError\u001b[0m                                 Traceback (most recent call last)",
      "Cell \u001b[1;32mIn[16], line 1\u001b[0m\n\u001b[1;32m----> 1\u001b[0m memoryl\u001b[39m=\u001b[39mencoder(torch\u001b[39m.\u001b[39mrand(\u001b[39m6\u001b[39m,\u001b[39m3\u001b[39m,\u001b[39m512\u001b[39m,\u001b[39m512\u001b[39m))\n",
      "\u001b[1;31mNameError\u001b[0m: name 'encoder' is not defined"
     ]
    }
   ],
   "source": [
    "memoryl=encoder(torch.rand(6,3,512,512))\n"
   ]
  },
  {
   "cell_type": "code",
   "execution_count": 146,
   "metadata": {},
   "outputs": [],
   "source": [
    "from transformers import BertTokenizerFast"
   ]
  },
  {
   "cell_type": "code",
   "execution_count": 122,
   "metadata": {},
   "outputs": [
    {
     "name": "stderr",
     "output_type": "stream",
     "text": [
      "Using cache found in C:\\Users\\noorr/.cache\\torch\\hub\\huggingface_pytorch-transformers_main\n"
     ]
    },
    {
     "data": {
      "text/plain": [
       "30525"
      ]
     },
     "execution_count": 122,
     "metadata": {},
     "output_type": "execute_result"
    }
   ],
   "source": [
    "len(torch.hub.load('huggingface/pytorch-transformers', 'tokenizer', 'data/tokenizer/'))"
   ]
  },
  {
   "cell_type": "code",
   "execution_count": 88,
   "metadata": {},
   "outputs": [
    {
     "name": "stderr",
     "output_type": "stream",
     "text": [
      "Using cache found in C:\\Users\\noorr/.cache\\torch\\hub\\huggingface_pytorch-transformers_main\n",
      "Using cache found in C:\\Users\\noorr/.cache\\torch\\hub\\huggingface_pytorch-transformers_main\n"
     ]
    }
   ],
   "source": [
    "tokenizer=torch.hub.load('huggingface/pytorch-transformers', 'tokenizer', 'bert-base-uncased')\n",
    "model=torch.hub.load('huggingface/pytorch-transformers', 'model', 'bert-base-uncased')"
   ]
  }
 ],
 "metadata": {
  "kernelspec": {
   "display_name": "yolov8",
   "language": "python",
   "name": "python3"
  },
  "language_info": {
   "codemirror_mode": {
    "name": "ipython",
    "version": 3
   },
   "file_extension": ".py",
   "mimetype": "text/x-python",
   "name": "python",
   "nbconvert_exporter": "python",
   "pygments_lexer": "ipython3",
   "version": "3.10.0"
  },
  "orig_nbformat": 4
 },
 "nbformat": 4,
 "nbformat_minor": 2
}
